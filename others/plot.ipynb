{
 "cells": [
  {
   "cell_type": "code",
   "execution_count": 1,
   "metadata": {},
   "outputs": [],
   "source": [
    "from matplotlib import pyplot as plt\n",
    "from matplotlib.animation import FuncAnimation\n",
    "import numpy as np\n",
    "from mpl_toolkits.mplot3d import Axes3D\n",
    "from matplotlib import cm\n",
    "import os\n",
    "from matplotlib.ticker import LinearLocator\n",
    "%matplotlib inline"
   ]
  },
  {
   "cell_type": "code",
   "execution_count": 2,
   "metadata": {},
   "outputs": [],
   "source": [
    "def read_data_file(file_path):\n",
    "  headers = []\n",
    "  data_blocks = []\n",
    "\n",
    "  with open(file_path, 'r') as file:\n",
    "      lines = file.readlines()\n",
    "\n",
    "  i = 0\n",
    "  while i < len(lines):\n",
    "      line = lines[i].strip()\n",
    "      if line:\n",
    "          header = float(line)\n",
    "          headers.append(header)\n",
    "\n",
    "          i += 1\n",
    "          block_lines = []\n",
    "          while i < len(lines) and lines[i].strip():\n",
    "              aux = list(map(float, lines[i].split()))\n",
    "              # repeat the first element of each line to make the animation periodic\n",
    "              aux.append(aux[0])\n",
    "              block_lines.append(aux)\n",
    "              i += 1\n",
    "          # repeat the first line to make the animation periodic\n",
    "          block_lines.append(block_lines[0])\n",
    "          data_block = np.array(block_lines)\n",
    "          data_blocks.append(data_block)\n",
    "      i += 1\n",
    "\n",
    "  headers_array = np.array(headers)\n",
    "  data_blocks_array = np.array(data_blocks)\n",
    "\n",
    "  # now we dupplicate the\n",
    "\n",
    "  return headers_array, data_blocks_array\n"
   ]
  },
  {
   "cell_type": "code",
   "execution_count": 3,
   "metadata": {},
   "outputs": [],
   "source": [
    "\n",
    "file_path ='../data/data.txt'  # Replace with the actual file path\n",
    "# Replace with the actual file path\n",
    "headers, data_blocks = read_data_file(file_path)\n"
   ]
  },
  {
   "cell_type": "code",
   "execution_count": 7,
   "metadata": {},
   "outputs": [
    {
     "data": {
      "text/plain": [
       "-9.98838"
      ]
     },
     "execution_count": 7,
     "metadata": {},
     "output_type": "execute_result"
    }
   ],
   "source": [
    "np.min(np.abs(data_blocks))"
   ]
  },
  {
   "cell_type": "code",
   "execution_count": 20,
   "metadata": {},
   "outputs": [
    {
     "ename": "AttributeError",
     "evalue": "'list' object has no attribute 'ravel'",
     "output_type": "error",
     "traceback": [
      "\u001b[0;31m---------------------------------------------------------------------------\u001b[0m",
      "\u001b[0;31mAttributeError\u001b[0m                            Traceback (most recent call last)",
      "Cell \u001b[0;32mIn[20], line 6\u001b[0m\n\u001b[1;32m      3\u001b[0m T\u001b[38;5;241m=\u001b[39m[\u001b[38;5;241m0.1\u001b[39m,\u001b[38;5;241m0.2\u001b[39m,\u001b[38;5;241m0.3\u001b[39m,\u001b[38;5;241m0.4\u001b[39m,\u001b[38;5;241m0.5\u001b[39m,\u001b[38;5;241m0.6\u001b[39m,\u001b[38;5;241m0.7\u001b[39m]\n\u001b[1;32m      5\u001b[0m \u001b[38;5;66;03m# add all the elements of these arrays to a one-level depth single list without for loops\u001b[39;00m\n\u001b[0;32m----> 6\u001b[0m \u001b[43mL\u001b[49m\u001b[38;5;241;43m.\u001b[39;49m\u001b[43mravel\u001b[49m()\n",
      "\u001b[0;31mAttributeError\u001b[0m: 'list' object has no attribute 'ravel'"
     ]
    }
   ],
   "source": [
    "L=[0.1,0.2,0.3,0.4,0.5,0.6,0.7]\n",
    "N=[10,20,30,40,50,60,70]\n",
    "T=[0.1,0.2,0.3,0.4,0.5,0.6,0.7]\n",
    "\n",
    "# add all the elements of these arrays to a one-level depth single list without for loops\n",
    "L.ravel()"
   ]
  },
  {
   "cell_type": "code",
   "execution_count": 19,
   "metadata": {},
   "outputs": [
    {
     "data": {
      "text/plain": [
       "array([0.1, 0.2, 0.3, 0.4, 0.5, 0.6, 0.7])"
      ]
     },
     "execution_count": 19,
     "metadata": {},
     "output_type": "execute_result"
    }
   ],
   "source": [
    "L"
   ]
  },
  {
   "cell_type": "code",
   "execution_count": 8,
   "metadata": {},
   "outputs": [],
   "source": [
    "import numpy as np"
   ]
  },
  {
   "cell_type": "code",
   "execution_count": 9,
   "metadata": {},
   "outputs": [],
   "source": [
    "L=np.array(L)"
   ]
  },
  {
   "cell_type": "code",
   "execution_count": 10,
   "metadata": {},
   "outputs": [
    {
     "data": {
      "text/plain": [
       "array([0.1, 0.2, 0.3, 0.4, 0.5, 0.6, 0.7])"
      ]
     },
     "execution_count": 10,
     "metadata": {},
     "output_type": "execute_result"
    }
   ],
   "source": [
    "L"
   ]
  },
  {
   "cell_type": "code",
   "execution_count": null,
   "metadata": {},
   "outputs": [],
   "source": []
  }
 ],
 "metadata": {
  "kernelspec": {
   "display_name": "Python 3",
   "language": "python",
   "name": "python3"
  },
  "language_info": {
   "codemirror_mode": {
    "name": "ipython",
    "version": 3
   },
   "file_extension": ".py",
   "mimetype": "text/x-python",
   "name": "python",
   "nbconvert_exporter": "python",
   "pygments_lexer": "ipython3",
   "version": "3.11.6"
  }
 },
 "nbformat": 4,
 "nbformat_minor": 2
}
