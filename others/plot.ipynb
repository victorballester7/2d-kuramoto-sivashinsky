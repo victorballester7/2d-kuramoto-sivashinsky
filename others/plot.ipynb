{
 "cells": [
  {
   "cell_type": "code",
   "execution_count": 1,
   "metadata": {},
   "outputs": [],
   "source": [
    "from matplotlib import pyplot as plt\n",
    "from matplotlib.animation import FuncAnimation\n",
    "import numpy as np\n",
    "from mpl_toolkits.mplot3d import Axes3D\n",
    "from matplotlib import cm\n",
    "import os\n",
    "from matplotlib.ticker import LinearLocator\n",
    "%matplotlib inline"
   ]
  },
  {
   "cell_type": "code",
   "execution_count": 2,
   "metadata": {},
   "outputs": [],
   "source": [
    "def read_data_file(file_path):\n",
    "  headers = []\n",
    "  data_blocks = []\n",
    "\n",
    "  with open(file_path, 'r') as file:\n",
    "      lines = file.readlines()\n",
    "\n",
    "  i = 0\n",
    "  while i < len(lines):\n",
    "      line = lines[i].strip()\n",
    "      if line:\n",
    "          header = float(line)\n",
    "          headers.append(header)\n",
    "\n",
    "          i += 1\n",
    "          block_lines = []\n",
    "          while i < len(lines) and lines[i].strip():\n",
    "              aux = list(map(float, lines[i].split()))\n",
    "              # repeat the first element of each line to make the animation periodic\n",
    "              aux.append(aux[0])\n",
    "              block_lines.append(aux)\n",
    "              i += 1\n",
    "          # repeat the first line to make the animation periodic\n",
    "          block_lines.append(block_lines[0])\n",
    "          data_block = np.array(block_lines)\n",
    "          data_blocks.append(data_block)\n",
    "      i += 1\n",
    "\n",
    "  headers_array = np.array(headers)\n",
    "  data_blocks_array = np.array(data_blocks)\n",
    "\n",
    "  # now we dupplicate the\n",
    "\n",
    "  return headers_array, data_blocks_array\n"
   ]
  },
  {
   "cell_type": "code",
   "execution_count": 3,
   "metadata": {},
   "outputs": [],
   "source": [
    "\n",
    "file_path ='../data/data.txt'  # Replace with the actual file path\n",
    "# Replace with the actual file path\n",
    "headers, data_blocks = read_data_file(file_path)\n"
   ]
  },
  {
   "cell_type": "code",
   "execution_count": 7,
   "metadata": {},
   "outputs": [
    {
     "data": {
      "text/plain": [
       "-9.98838"
      ]
     },
     "execution_count": 7,
     "metadata": {},
     "output_type": "execute_result"
    }
   ],
   "source": [
    "np.min(np.abs(data_blocks))"
   ]
  },
  {
   "cell_type": "code",
   "execution_count": null,
   "metadata": {},
   "outputs": [],
   "source": []
  }
 ],
 "metadata": {
  "kernelspec": {
   "display_name": "Python 3",
   "language": "python",
   "name": "python3"
  },
  "language_info": {
   "codemirror_mode": {
    "name": "ipython",
    "version": 3
   },
   "file_extension": ".py",
   "mimetype": "text/x-python",
   "name": "python",
   "nbconvert_exporter": "python",
   "pygments_lexer": "ipython3",
   "version": "3.11.6"
  }
 },
 "nbformat": 4,
 "nbformat_minor": 2
}
