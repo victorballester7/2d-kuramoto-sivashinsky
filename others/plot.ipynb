{
 "cells": [
  {
   "cell_type": "code",
   "execution_count": 2,
   "metadata": {},
   "outputs": [],
   "source": [
    "from matplotlib import pyplot as plt\n",
    "from matplotlib.animation import FuncAnimation\n",
    "import numpy as np\n",
    "from mpl_toolkits.mplot3d import Axes3D\n",
    "from matplotlib import cm\n",
    "import os\n",
    "from matplotlib.ticker import LinearLocator\n",
    "%matplotlib inline"
   ]
  },
  {
   "cell_type": "code",
   "execution_count": 3,
   "metadata": {},
   "outputs": [],
   "source": [
    "def read_data_file(file_path):\n",
    "    headers = []\n",
    "    data_blocks = []\n",
    "\n",
    "    with open(file_path, 'r') as file:\n",
    "        lines = file.readlines()\n",
    "\n",
    "    i = 0\n",
    "    while i < len(lines):\n",
    "        line = lines[i].strip()\n",
    "        if line:\n",
    "            header = float(line)\n",
    "            headers.append(header)\n",
    "\n",
    "            i += 1\n",
    "            block_lines = []\n",
    "            while i < len(lines) and lines[i].strip():\n",
    "                aux = list(map(float, lines[i].split()))\n",
    "                # repeat the first element of each line to make the animation periodic\n",
    "                aux.append(aux[0])\n",
    "                block_lines.append(aux)\n",
    "                i += 1\n",
    "            # repeat the first line to make the animation periodic\n",
    "            block_lines.append(block_lines[0])\n",
    "            data_block = np.array(block_lines)\n",
    "            data_blocks.append(data_block)\n",
    "        i += 1\n",
    "\n",
    "    headers_array = np.array(headers)\n",
    "    data_blocks_array = np.array(data_blocks)\n",
    "\n",
    "    # now we dupplicate the\n",
    "\n",
    "    return headers_array, data_blocks_array"
   ]
  },
  {
   "cell_type": "code",
   "execution_count": 9,
   "metadata": {},
   "outputs": [
    {
     "name": "stdout",
     "output_type": "stream",
     "text": [
      "0.0\n",
      "0.06445328719723184\n",
      "0.16299605882352944\n",
      "0.2500902249134948\n",
      "0.31785444290657444\n",
      "0.36990031626297576\n",
      "0.40918040622837376\n",
      "0.43811195778546713\n",
      "0.45866667266435984\n",
      "0.47245972179930795\n",
      "0.4808082062283737\n",
      "0.4847891602076124\n",
      "0.4852796782006921\n",
      "0.4829975961937716\n",
      "0.478527244982699\n",
      "0.4723437543252595\n",
      "0.4648339378546713\n",
      "0.4563136516262976\n",
      "0.4470373858131488\n",
      "0.4372118137716263\n",
      "0.42700491660899653\n",
      "0.4165511392387543\n",
      "0.4059587626989619\n",
      "0.3953149169204152\n",
      "0.3846887719723184\n",
      "0.3741351640484429\n",
      "0.3636972686851211\n",
      "0.3534085857785467\n",
      "0.343295299266436\n",
      "0.33337653461591693\n",
      "0.3236670760138408\n",
      "0.31417717030449827\n",
      "0.3049136845259516\n",
      "0.2958810338615917\n",
      "0.28708146029065745\n",
      "0.27851520446366784\n",
      "0.270181392266436\n",
      "0.26207800073010384\n",
      "0.2542022092318339\n",
      "0.24655038120415226\n",
      "0.23911857765536332\n",
      "0.23190217060138407\n",
      "0.2248965377148789\n",
      "0.21809700246089966\n",
      "0.2114982493536332\n",
      "0.20509530841314877\n",
      "0.19888325057474046\n",
      "0.1928566689034602\n",
      "0.18701064247854668\n",
      "0.18134007400276814\n",
      "0.17584013924602077\n",
      "0.17050576303833911\n"
     ]
    }
   ],
   "source": [
    "\n",
    "file_path ='../data/data.txt'  # Replace with the actual file path\n",
    "# Replace with the actual file path\n",
    "file_path_sol = '../data/sol_aux.txt'\n",
    "headers, data_blocks = read_data_file(file_path)\n",
    "headers_sol, data_blocks_sol = read_data_file(file_path_sol)\n",
    "for i in range(len(data_blocks)):\n",
    "    aux = np.abs(data_blocks[i] - data_blocks_sol[i])\n",
    "    # print statistics: max, min, mean,... of aux\n",
    "    print(np.mean(aux))\n"
   ]
  },
  {
   "cell_type": "code",
   "execution_count": 7,
   "metadata": {},
   "outputs": [
    {
     "data": {
      "text/plain": [
       "0.17050576303833911"
      ]
     },
     "execution_count": 7,
     "metadata": {},
     "output_type": "execute_result"
    }
   ],
   "source": [
    "np.mean(np.abs(data_blocks[i] - data_blocks_sol[i]))"
   ]
  },
  {
   "cell_type": "code",
   "execution_count": null,
   "metadata": {},
   "outputs": [],
   "source": []
  }
 ],
 "metadata": {
  "kernelspec": {
   "display_name": "Python 3",
   "language": "python",
   "name": "python3"
  },
  "language_info": {
   "codemirror_mode": {
    "name": "ipython",
    "version": 3
   },
   "file_extension": ".py",
   "mimetype": "text/x-python",
   "name": "python",
   "nbconvert_exporter": "python",
   "pygments_lexer": "ipython3",
   "version": "3.11.6"
  }
 },
 "nbformat": 4,
 "nbformat_minor": 2
}
