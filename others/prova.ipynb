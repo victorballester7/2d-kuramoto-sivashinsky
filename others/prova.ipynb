{
 "cells": [
  {
   "cell_type": "code",
   "execution_count": 1,
   "metadata": {},
   "outputs": [],
   "source": [
    "import numpy as np"
   ]
  },
  {
   "cell_type": "code",
   "execution_count": 10,
   "metadata": {},
   "outputs": [],
   "source": [
    "# grid of 16x16 in [0,2*pi]x[0,2*pi]\n",
    "N=8\n",
    "x = np.linspace(0, 2*np.pi, N, endpoint=False)\n",
    "y =np.linspace(0, 2*np.pi, N, endpoint=False)\n",
    "X, Y = np.meshgrid(x, y)\n"
   ]
  },
  {
   "cell_type": "code",
   "execution_count": 11,
   "metadata": {},
   "outputs": [
    {
     "data": {
      "text/plain": [
       "array([[-0.95892427,  0.45528929,  1.04107573,  0.45528929, -0.95892427,\n",
       "        -2.37313784, -2.95892427, -2.37313784],\n",
       "       [ 0.45528929,  1.45528929,  1.45528929,  0.45528929, -0.95892427,\n",
       "        -1.95892427, -1.95892427, -0.95892427],\n",
       "       [ 1.04107573,  1.45528929,  1.04107573,  0.04107573, -0.95892427,\n",
       "        -1.37313784, -0.95892427,  0.04107573],\n",
       "       [ 0.45528929,  0.45528929,  0.04107573, -0.54471071, -0.95892427,\n",
       "        -0.95892427, -0.54471071,  0.04107573],\n",
       "       [-0.95892427, -0.95892427, -0.95892427, -0.95892427, -0.95892427,\n",
       "        -0.95892427, -0.95892427, -0.95892427],\n",
       "       [-2.37313784, -1.95892427, -1.37313784, -0.95892427, -0.95892427,\n",
       "        -1.37313784, -1.95892427, -2.37313784],\n",
       "       [-2.95892427, -1.95892427, -0.95892427, -0.54471071, -0.95892427,\n",
       "        -1.95892427, -2.95892427, -3.37313784],\n",
       "       [-2.37313784, -0.95892427,  0.04107573,  0.04107573, -0.95892427,\n",
       "        -2.37313784, -3.37313784, -3.37313784]])"
      ]
     },
     "execution_count": 11,
     "metadata": {},
     "output_type": "execute_result"
    }
   ],
   "source": [
    "t=5.0\n",
    "np.sin(X) + np.sin(Y) + np.sin(X+Y) + np.sin(t)"
   ]
  },
  {
   "cell_type": "code",
   "execution_count": null,
   "metadata": {},
   "outputs": [],
   "source": []
  }
 ],
 "metadata": {
  "kernelspec": {
   "display_name": "Python 3",
   "language": "python",
   "name": "python3"
  },
  "language_info": {
   "codemirror_mode": {
    "name": "ipython",
    "version": 3
   },
   "file_extension": ".py",
   "mimetype": "text/x-python",
   "name": "python",
   "nbconvert_exporter": "python",
   "pygments_lexer": "ipython3",
   "version": "3.11.6"
  }
 },
 "nbformat": 4,
 "nbformat_minor": 2
}
