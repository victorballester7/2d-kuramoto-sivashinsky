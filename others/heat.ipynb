{
 "cells": [
  {
   "cell_type": "code",
   "execution_count": null,
   "metadata": {},
   "outputs": [],
   "source": [
    "# using FFTW\n",
    "# using Plots\n",
    "# using CalculusWithJulia\n",
    "# using RungeKutta\n",
    "# using GridInterpolations\n",
    "# using DifferentialEquations"
   ]
  },
  {
   "cell_type": "code",
   "execution_count": 22,
   "metadata": {},
   "outputs": [
    {
     "data": {
      "text/plain": [
       "16×16 Matrix{Float64}:\n",
       " 0.0  0.392699  0.785398  1.1781  …  4.71239  5.10509  5.49779  5.89049\n",
       " 0.0  0.392699  0.785398  1.1781     4.71239  5.10509  5.49779  5.89049\n",
       " 0.0  0.392699  0.785398  1.1781     4.71239  5.10509  5.49779  5.89049\n",
       " 0.0  0.392699  0.785398  1.1781     4.71239  5.10509  5.49779  5.89049\n",
       " 0.0  0.392699  0.785398  1.1781     4.71239  5.10509  5.49779  5.89049\n",
       " 0.0  0.392699  0.785398  1.1781  …  4.71239  5.10509  5.49779  5.89049\n",
       " 0.0  0.392699  0.785398  1.1781     4.71239  5.10509  5.49779  5.89049\n",
       " 0.0  0.392699  0.785398  1.1781     4.71239  5.10509  5.49779  5.89049\n",
       " 0.0  0.392699  0.785398  1.1781     4.71239  5.10509  5.49779  5.89049\n",
       " 0.0  0.392699  0.785398  1.1781     4.71239  5.10509  5.49779  5.89049\n",
       " 0.0  0.392699  0.785398  1.1781  …  4.71239  5.10509  5.49779  5.89049\n",
       " 0.0  0.392699  0.785398  1.1781     4.71239  5.10509  5.49779  5.89049\n",
       " 0.0  0.392699  0.785398  1.1781     4.71239  5.10509  5.49779  5.89049\n",
       " 0.0  0.392699  0.785398  1.1781     4.71239  5.10509  5.49779  5.89049\n",
       " 0.0  0.392699  0.785398  1.1781     4.71239  5.10509  5.49779  5.89049\n",
       " 0.0  0.392699  0.785398  1.1781  …  4.71239  5.10509  5.49779  5.89049"
      ]
     },
     "metadata": {},
     "output_type": "display_data"
    }
   ],
   "source": [
    "\n",
    "\n",
    "xⱼ = (0:N-1) * 2π / N\n",
    "yⱼ = xⱼ\n",
    "# create a 2D grid (meshgrid in MATLAB)\n",
    "xⱼ = repeat(xⱼ', N, 1)\n",
    "yⱼ = repeat(yⱼ, 1, N)\n"
   ]
  },
  {
   "cell_type": "code",
   "execution_count": 25,
   "metadata": {},
   "outputs": [
    {
     "data": {
      "text/plain": [
       "#19 (generic function with 1 method)"
      ]
     },
     "metadata": {},
     "output_type": "display_data"
    }
   ],
   "source": [
    "N::Int64 = 16\n",
    "\n",
    "# final time of the simulation\n",
    "T::Float64 = 1.0\n",
    "# time step\n",
    "Δt::Float64 = 0.01\n",
    "\n",
    "xⱼ = (0:N-1) * 2π / N\n",
    "yⱼ = xⱼ\n",
    "# create a 2D grid\n",
    "xⱼ = repeat(xⱼ', N, 1)\n",
    "yⱼ = repeat(yⱼ, 1, N)\n",
    "\n",
    "# wave numbers\n",
    "k₁ = (0:N-1) .+ (-N / 2 + 1)\n",
    "k₂ = k₁\n",
    "# create a 2D grid\n",
    "k₁ = repeat(k₁', N, 1)\n",
    "k₂ = repeat(k₂, 1, N)\n",
    "\n",
    "ν₁::Float64 = 1.0\n",
    "ν₂::Float64 = 1.0\n",
    "\n",
    "tmp = k₁ .^ 2 + (ν₂ / ν₁) * k₂ .^ 2\n",
    "\n",
    "# intial condition\n",
    "u₀ = function (x, y)\n",
    "    return sin.(x + y) + sin.(x) + sin.(y)\n",
    "end\n",
    "\n",
    "\n",
    "# 2D Kuramoto-Sivashinsky equation\n",
    "# ∂ₜu + 1/2 * |∇u|² + Δu + Δ²u = 0\n",
    "# Doing a change of variable to rescale the domain to [0, 2π] we get the equation\n",
    "# ∂ₜu + 1/2 * ((∂ₓu)² + (ν₂/ν₁) * (∂ᵧu)²) + [∂ₓ²u + (ν₂/ν₁) * ∂ᵧ²u] + ν₁ * [∂ₓ⁴u + 2 * (ν₂/ν₁) * ∂ₓ²∂ᵧ²u + (ν₂/ν₁)² * ∂ᵧ⁴u] = 0\n",
    "f = function (û::Array{Complex{Float64}, 2})\n",
    "  # This function will return the right hand side of the equation for a Runge Kutta method. It is based on a Fourier spectral method.\n",
    "  # u is a 2D array containing the values of u at the grid points.\n",
    "  # The equation in the Fourier space is\n",
    "  # ∂ₜû = - 1/2 * ℱ([ℱ⁻¹(i * k₁ * û)]² + (ν₂/ν₁) * [ℱ⁻¹(i * k₂ * û)]²)\n",
    "  #       + (k₁² + (ν₂/ν₁) * k₂²) * û\n",
    "  #       -  ν₁ * (k₁² + (ν₂/ν₁) * k₂²)² * û\n",
    "  return -1 / 2 * (fft(ifft(1im * k₁ .* û)) .^ 2 + (ν₂ / ν₁) * fft(ifft(1im * k₂ .* û)) .^ 2) + tmp * (1 - ν₁ * tmp) * û\n",
    "  return\n",
    "end\n",
    "\n",
    "fourier_method = function(u₀::Array{Float64, 2})\n",
    "  û = fft(u₀)\n",
    "  prob = ODEProblem(\n",
    "end\n",
    "\n",
    "\n",
    "# g(x) = sin(2 * x) * exp(cos(8 * x))\n",
    "# plot(xj, f, label = \"f(x) discrete\")\n",
    "# plot!(g, 0, 2π, label = \"f(x)\")\n",
    "# # plot!(fft(f), label=\"fft(f(x))\")\n"
   ]
  },
  {
   "cell_type": "code",
   "execution_count": 26,
   "metadata": {},
   "outputs": [
    {
     "ename": "UndefVarError",
     "evalue": "UndefVarError: `rk4` not defined",
     "output_type": "error",
     "traceback": [
      "UndefVarError: `rk4` not defined\n",
      "\n",
      "Stacktrace:\n",
      " [1] (::var\"#19#20\")(u₀::Matrix{Float64})\n",
      "   @ Main ~/Desktop/kuramoto-sivashinsky/src/heat.ipynb:49\n",
      " [2] top-level scope\n",
      "   @ ~/Desktop/kuramoto-sivashinsky/src/heat.ipynb:1"
     ]
    }
   ],
   "source": [
    "fourier_method(u₀(xⱼ, yⱼ))"
   ]
  },
  {
   "cell_type": "code",
   "execution_count": null,
   "metadata": {},
   "outputs": [],
   "source": []
  }
 ],
 "metadata": {
  "kernelspec": {
   "display_name": "Julia 1.9.4",
   "language": "julia",
   "name": "julia-1.9"
  },
  "language_info": {
   "file_extension": ".jl",
   "mimetype": "application/julia",
   "name": "julia",
   "version": "1.9.4"
  }
 },
 "nbformat": 4,
 "nbformat_minor": 2
}
