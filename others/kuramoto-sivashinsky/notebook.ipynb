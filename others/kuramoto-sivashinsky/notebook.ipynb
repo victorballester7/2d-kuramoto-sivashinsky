{
 "cells": [
  {
   "cell_type": "markdown",
   "id": "0c3cf730",
   "metadata": {},
   "source": [
    "### A project by Villads Zimakoff"
   ]
  },
  {
   "cell_type": "markdown",
   "id": "79181f01",
   "metadata": {},
   "source": [
    "# Kuramoto-Sivashinsky in 1D\n",
    "The kuramoto-Sivashinsky equation is a fourth order nonlinear PDE. It is used to model phenomena such as thermal instabilities in flame fronts and fluid dynamics. Mosty importantly for this project, the Kuramoto-Sivashinsky equation is known to exhibit chaotic properties highly sensitive to intial condtions within certain parameter domains. The focus of this project will be on deriving a numerical solution to the problem in 1D and 2D, aswell as investigate the behavior for given varrying domain sizes and intial conditions.  \n",
    "\n",
    "Troughout this project i will use the notation:  \n",
    "$\\partial_{x  n} \\rightarrow$ implies n times implicit differentiation of the given function with respect to x.  \n",
    "$\\ast \\rightarrow$ will symbolize the convolution operator.  \n"
   ]
  },
  {
   "cell_type": "markdown",
   "id": "0013222b",
   "metadata": {},
   "source": [
    " For the one dimensional function $u(x)$, the standard form for the Kuramoto-Sivashinsky equation is  \n",
    " \n",
    "$$\\begin{align*}\n",
    "  \\frac{du}{dt}   &= - \\frac{1}{2} uu_{x} - u_{xx} - u_{xxxx}.  \\\\\n",
    "\\end{align*}$$\n",
    "\n",
    "We then apply a quasi implicit discretization, relaxing the nonlinear term $uu_{x}$  \n",
    "\n",
    "$$\\begin{equation*}\n",
    "  u_{t+\\Delta t} = u_{t} - \\Delta t(\\frac{1}{2}u_{t} \\partial_{x} u_{t} +\\partial_{xx} u_{t+\\Delta t} + \\partial_{xxxx} u_{t+\\Delta t}). \\\\ \n",
    " \\end{equation*}$$\n",
    " \n",
    "Next we transform our equation from the spatial domain $u(x)$ into the frequency domain $\\hat u(k)$ via the Fourier transformation. Note that any multiplicative term here transforms to become a convolution. \n",
    "  \n",
    "  $$\\begin{equation*}\n",
    "\\hat u_{t+\\Delta t} = \\hat u_{t} - \\Delta t(\\frac{1}{2} ( \\hat u_{t} \\ast ik_{x}\\hat u_{t}) -k_{x}^2 \\hat u_{t+\\Delta t} + k_{x}^4\\hat u_{t+\\Delta t}). \n",
    " \\end{equation*}$$  \n",
    " \n",
    "We then factor the implicit terms and isolate for the solution \n",
    "\n",
    "  $$\\begin{equation*}\n",
    "(1+\\Delta t(k_{x}^4 - k_{x}^2 ))\\hat u_{t+\\Delta t} = \\hat u_{t} - \\Delta t\\frac{1}{2}  (\\hat u_{t} \\ast ik_{x}\\hat u_{t}) \\\\\n",
    "\\hat u_{t+\\Delta t} = \\frac{\\hat u_{t} - \\Delta t\\frac{1}{2}  (\\hat u_{t} \\ast ik_{x}\\hat u_{t})}{1+\\Delta t(k_{x}^4 - k_{x}^2 )}. \n",
    " \\end{equation*}$$\n",
    " \n",
    "But as the convolution operation is rather computationally expensive, we instead exploit the Fourier transform once again:\n",
    "\n",
    "$$\\begin{equation*}\n",
    "\\hat u_{t} \\ast ik_{x}\\hat u_{t} =  \\mathcal{F} \\{u_{t} \\cdot \\mathcal{F}^{-1} \\{ ik_{x} \\hat u_{t}\\} \\}.\n",
    "\\end{equation*}$$\n",
    "\n",
    "To get the solution in the spatial domain we simple apply an inverse transformation. We now move to the implementation. Here we use a couple of \"tricks\" to further increase both speed and memory usage. Firstly the above term in the denominator is constant and can therefore be precomputed $\\textit{once}$ and resued every loop. Secondly i use the pyfftw.interface to speed up numpy's Fourier transformations. "
   ]
  },
  {
   "cell_type": "code",
   "execution_count": 26,
   "id": "81fe5379",
   "metadata": {},
   "outputs": [],
   "source": [
    "pyfftw.interfaces.cache.enable()\n",
    "\n",
    "def update(u, k_x, denominator, dt):\n",
    "    u_trans = pyfftw.interfaces.numpy_fft.fft(u)\n",
    "    \n",
    "    u_x = np.real(pyfftw.interfaces.numpy_fft.ifft(1j * k_x * u_trans))\n",
    "        \n",
    "    nonlinear_term = dt * pyfftw.interfaces.numpy_fft.fft(u * u_x) / 2\n",
    "    \n",
    "    u_trans_next = ( u_trans - nonlinear_term  ) / denominator \n",
    "    \n",
    "    u_new = np.real(pyfftw.interfaces.numpy_fft.ifft(u_trans_next))\n",
    "    \n",
    "    return u_new\n",
    "\n",
    "def sim(N, L, u_i, t_max, dt):\n",
    "    k_x = 2 * np.pi * fft.fftfreq(N, L / N)\n",
    "    denominator = 1 + dt*(k_x**4 - k_x**2)\n",
    "    \n",
    "    u = u_i\n",
    "    t, n = 0, 0\n",
    "    u_sol, t_list = [], []\n",
    "    while t < t_max:\n",
    "        u = update(u, k_x, denominator, dt)\n",
    "        if n % int(1/(10*dt)) == 0:\n",
    "            u_sol.append(u)\n",
    "            t_list.append(t)\n",
    "        t += dt\n",
    "        n += 1\n",
    "        \n",
    "    return np.array(u_sol), np.array(t_list)"
   ]
  },
  {
   "cell_type": "markdown",
   "id": "6363e38c",
   "metadata": {},
   "source": [
    "# Kuramoto-Sivashinsky in 2D"
   ]
  },
  {
   "cell_type": "markdown",
   "id": "7f0a7e13",
   "metadata": {},
   "source": [
    " For the two dimensional function $u(x,y)$, the standard form for the Kuramoto-Sivashinsky equation is:  \n",
    " \n",
    "$$\\begin{align*}\n",
    "  \\frac{du}{dt}   &= - \\frac{1}{2} |\\nabla u|^{2} -\\nabla^{2}u - \\nabla^{4}u. \\\\\n",
    "\\end{align*}$$\n",
    "To which we apply the quasi implicit discretization\n",
    "$$\\begin{equation*}\n",
    "  u_{t+\\Delta t} = u_{t} - \\Delta t(\\frac{1}{2} |\\nabla u_{t}|^{2} +\\nabla^{2}u_{t+\\Delta t} + \\nabla^{4}u_{t+\\Delta t}) \\\\ \n",
    "  u_{t+\\Delta t} = u_{t} - \\Delta t(\\frac{1}{2} ((\\partial_{x} u_{t})^{2} + (\\partial_{y} u_{t})^{2}) +(\\partial_{xx} + \\partial_{yy} )u_{t+\\Delta t} + (\\partial_{xxxx}  + \\partial_{yyyy} + 2\\partial_{xxyy})u_{t+\\Delta t}). \\\\ \n",
    " \\end{equation*}$$\n",
    "Note that since u is a scalar field, the absolute value of its gradient squared is\n",
    "$|\\nabla u_{t}|^{2} = (\\sqrt{(\\partial_{x} u_{t})^{2} + (\\partial_{y} u_{t})^{2}})^{2} = (\\partial_{x} u_{t})^{2} + (\\partial_{y} u_{t})^{2}.$  \n",
    "\n",
    "If we now fourier-transform\n",
    "  \n",
    "  $$\\begin{equation*}\n",
    "\\hat u_{t+\\Delta t} = \\hat u_{t} - \\Delta t(\\frac{1}{2} ( (ik_{x} \\hat u_{t} \\ast ik_{x}\\hat u_{t}) + (ik_{y} \\hat u_{t} \\ast ik_{y}\\hat u_{t})) -(k_{x}^2 + k_{y}^2)\\hat u_{t+\\Delta t} + (k_{x}^4 + k_{y}^4 + 2k_{x}^{2}k_{y}^2)\\hat u_{t+\\Delta t}) \\\\\n",
    "(1+\\Delta t(k_{x}^4 + k_{y}^4 + 2k_{x}^{2}k_{y}^2 - k_{x}^2 - k_{y}^2))\\hat u_{t+\\Delta t} = \\hat u_{t} - \\Delta t\\frac{1}{2}  ((ik_{x} \\hat u_{t} \\ast ik_{x}\\hat u_{t}) + (ik_{y} \\hat u_{t} \\ast ik_{y}\\hat u_{t})) \\\\\n",
    "\\hat u_{t+\\Delta t} = \\frac{\\hat u_{t} - \\Delta t\\frac{1}{2}  ((ik_{x} \\hat u_{t} \\ast ik_{x}\\hat u_{t}) + (ik_{y} \\hat u_{t} \\ast ik_{y}\\hat u_{t}))}{1+\\Delta t(k_{x}^4 + k_{y}^4 + 2k_{x}^{2}k_{y}^2 - k_{x}^2 - k_{y}^2)}. \n",
    " \\end{equation*}$$\n",
    " \n",
    "Again we use the multiplicative property of the convolution in the spatial domain:\n",
    "\n",
    "$$\\begin{equation*}\n",
    "ik_{x} \\hat u_{t} \\ast ik_{x}\\hat u_{t} = \\mathcal{F}\\{ \\mathcal{F}^{-1} \\{ ik_{x} \\hat u_{t}\\} \\cdot \\mathcal{F}^{-1} \\{ ik_{x} \\hat u_{t}\\} \\}.\n",
    "\\end{equation*}$$\n",
    "\n",
    "\n",
    "Taking the inverse Fourier transform we then obtain a solution and implementation analogue to before, but in two dimensions. It is however important, that since we are taking a two dimensional Fourier transformation, we handle our wave numbers and transformations carefully. This step crucial, as it is possible for energy to \"leak\" into the complex plane.  Further the domain size is asumed to be square so that $L_{x} = L_{y} = L$.  \n",
    "  \n",
    "Below is the implmentation."
   ]
  },
  {
   "cell_type": "code",
   "execution_count": 17,
   "id": "a11390ba",
   "metadata": {},
   "outputs": [],
   "source": [
    "import numpy as np\n",
    "\n",
    "# pyfftw.interfaces.cache.enable()\n",
    "\n",
    "def update(u, k_x, k_y, denominator, dt):\n",
    "    # u_trans = pyfftw.interfaces.numpy_fft.rfft2(u)\n",
    "    u_trans = np.fft.rfft2(u)\n",
    "\n",
    "    # u_x = pyfftw.interfaces.numpy_fft.irfft2(1j * k_x * u_trans)\n",
    "    # u_y = pyfftw.interfaces.numpy_fft.irfft2(1j * k_y * u_trans)\n",
    "    u_x = np.fft.irfft2(1j * k_x * u_trans)\n",
    "    u_y = np.fft.irfft2(1j * k_y * u_trans)\n",
    "        \n",
    "    # nonlinear_term = dt * pyfftw.interfaces.numpy_fft.rfft2(u_x * u_x + u_y * u_y) / 2\n",
    "    nonlinear_term =  dt * np.fft.rfft2(u_x * u_x + u_y * u_y) / 2\n",
    "    # nonlinear_term = np.zeros_like(nonlinear_term)\n",
    "\n",
    "    u_trans_next = ( u_trans - nonlinear_term  ) / denominator \n",
    "    \n",
    "    # u_new = pyfftw.interfaces.numpy_fft.irfft2(u_trans_next)\n",
    "    u_new = np.fft.irfft2(u_trans_next)\n",
    "    \n",
    "    return u_new\n",
    "\n",
    "def sim(N, L, u_i, t_max, dt):\n",
    "    k_x, k_y = np.meshgrid(2 * np.pi * np.fft.rfftfreq(N, L/N), 2 * np.pi * np.fft.fftfreq(N, L/N))\n",
    "    denominator = 1 + dt*(k_x**4 + k_y**4 + 2 * k_x**2 * k_y**2 - k_x**2 - k_y**2)\n",
    "    \n",
    "    print(k_x)\n",
    "    print(k_y)\n",
    "\n",
    "\n",
    "    u = u_i\n",
    "    t, n = 0, 0\n",
    "    u_sol = []\n",
    "    while t < t_max:\n",
    "        u = update(u, k_x, k_y, denominator, dt)\n",
    "        # if n % int(1/(5*dt)) == 0:\n",
    "        u_sol.append(u)\n",
    "        t += dt\n",
    "        n += 1\n",
    "        \n",
    "    return u_sol"
   ]
  },
  {
   "cell_type": "code",
   "execution_count": 18,
   "id": "922a45c3",
   "metadata": {},
   "outputs": [],
   "source": [
    "t_max = 5.\n",
    "dt = 0.005\n",
    "L = 2 * np.pi\n",
    "N = 16\n",
    "\n",
    "# set initial condition\n",
    "# u0 = sin(x) + sin(y) + sin(x + y)\n",
    "\n",
    "x = np.linspace(0, L, N, endpoint=False)\n",
    "y = np.linspace(0, L, N, endpoint=False)\n",
    "xv, yv = np.meshgrid(x, y)\n",
    "u0 = np.sin(xv) + np.sin(yv) + np.sin(xv + yv)"
   ]
  },
  {
   "cell_type": "code",
   "execution_count": 19,
   "id": "d797fa3a",
   "metadata": {},
   "outputs": [
    {
     "name": "stdout",
     "output_type": "stream",
     "text": [
      "[[0. 1. 2. 3. 4. 5. 6. 7. 8.]\n",
      " [0. 1. 2. 3. 4. 5. 6. 7. 8.]\n",
      " [0. 1. 2. 3. 4. 5. 6. 7. 8.]\n",
      " [0. 1. 2. 3. 4. 5. 6. 7. 8.]\n",
      " [0. 1. 2. 3. 4. 5. 6. 7. 8.]\n",
      " [0. 1. 2. 3. 4. 5. 6. 7. 8.]\n",
      " [0. 1. 2. 3. 4. 5. 6. 7. 8.]\n",
      " [0. 1. 2. 3. 4. 5. 6. 7. 8.]\n",
      " [0. 1. 2. 3. 4. 5. 6. 7. 8.]\n",
      " [0. 1. 2. 3. 4. 5. 6. 7. 8.]\n",
      " [0. 1. 2. 3. 4. 5. 6. 7. 8.]\n",
      " [0. 1. 2. 3. 4. 5. 6. 7. 8.]\n",
      " [0. 1. 2. 3. 4. 5. 6. 7. 8.]\n",
      " [0. 1. 2. 3. 4. 5. 6. 7. 8.]\n",
      " [0. 1. 2. 3. 4. 5. 6. 7. 8.]\n",
      " [0. 1. 2. 3. 4. 5. 6. 7. 8.]]\n",
      "[[ 0.  0.  0.  0.  0.  0.  0.  0.  0.]\n",
      " [ 1.  1.  1.  1.  1.  1.  1.  1.  1.]\n",
      " [ 2.  2.  2.  2.  2.  2.  2.  2.  2.]\n",
      " [ 3.  3.  3.  3.  3.  3.  3.  3.  3.]\n",
      " [ 4.  4.  4.  4.  4.  4.  4.  4.  4.]\n",
      " [ 5.  5.  5.  5.  5.  5.  5.  5.  5.]\n",
      " [ 6.  6.  6.  6.  6.  6.  6.  6.  6.]\n",
      " [ 7.  7.  7.  7.  7.  7.  7.  7.  7.]\n",
      " [-8. -8. -8. -8. -8. -8. -8. -8. -8.]\n",
      " [-7. -7. -7. -7. -7. -7. -7. -7. -7.]\n",
      " [-6. -6. -6. -6. -6. -6. -6. -6. -6.]\n",
      " [-5. -5. -5. -5. -5. -5. -5. -5. -5.]\n",
      " [-4. -4. -4. -4. -4. -4. -4. -4. -4.]\n",
      " [-3. -3. -3. -3. -3. -3. -3. -3. -3.]\n",
      " [-2. -2. -2. -2. -2. -2. -2. -2. -2.]\n",
      " [-1. -1. -1. -1. -1. -1. -1. -1. -1.]]\n"
     ]
    }
   ],
   "source": [
    "S=sim(N, L, u0, t_max, dt)"
   ]
  },
  {
   "cell_type": "code",
   "execution_count": 21,
   "id": "4d7f8c7a",
   "metadata": {},
   "outputs": [
    {
     "data": {
      "text/plain": [
       "array([[-3.06304387, -2.6943108 , -2.33736177, -2.05042556, -1.88359094,\n",
       "        -1.86731166, -2.00461141, -2.27027866, -2.61740865, -2.98848234,\n",
       "        -3.32679698, -3.58502792, -3.72989964, -3.7438356 , -3.6251867 ,\n",
       "        -3.38822743],\n",
       "       [-2.6943108 , -2.32557888, -1.96863299, -1.68170153, -1.51487251,\n",
       "        -1.49859871, -1.63590288, -1.90157273, -2.24870316, -2.61977516,\n",
       "        -2.95808636, -3.2163127 , -3.3611793 , -3.37511031, -3.25645729,\n",
       "        -3.01949528],\n",
       "       [-2.33736177, -1.96863299, -1.6116917 , -1.3247656 , -1.15794182,\n",
       "        -1.14167222, -1.27897881, -1.54464892, -1.8917775 , -2.26284593,\n",
       "        -2.60115248, -2.85937379, -3.00423569, -3.01816293, -2.89950754,\n",
       "        -2.66254493],\n",
       "       [-2.05042556, -1.68170153, -1.3247656 , -1.03784463, -0.87102485,\n",
       "        -0.8547574 , -0.9920639 , -1.25773175, -1.60485635, -1.97591981,\n",
       "        -2.31422119, -2.57243788, -2.71729628, -2.7312216 , -2.61256611,\n",
       "        -2.37560526],\n",
       "       [-1.88359094, -1.51487251, -1.15794182, -0.87102485, -0.70420709,\n",
       "        -0.68793927, -0.82524308, -1.09090642, -1.43802552, -1.8090834 ,\n",
       "        -2.14737997, -2.40559323, -2.55045001, -2.56437568, -2.44572246,\n",
       "        -2.20876553],\n",
       "       [-1.86731166, -1.49859871, -1.14167222, -0.8547574 , -0.68793927,\n",
       "        -0.67166857, -0.8089675 , -1.07462483, -1.42173782, -1.79279047,\n",
       "        -2.13108342, -2.38929509, -2.53415246, -2.54808074, -2.42943182,\n",
       "        -2.19248035],\n",
       "       [-2.00461141, -1.63590288, -1.27897881, -0.9920639 , -0.82524308,\n",
       "        -0.8089675 , -0.94626019, -1.21191104, -1.55901839, -1.93006709,\n",
       "        -2.26835826, -2.52657048, -2.67143053, -2.68536324, -2.56671991,\n",
       "        -2.32977446],\n",
       "       [-2.27027866, -1.90157273, -1.54464892, -1.25773175, -1.09090642,\n",
       "        -1.07462483, -1.21191104, -1.47755607, -1.8246592 , -2.19570587,\n",
       "        -2.53399739, -2.79221214, -2.93707648, -2.95101462, -2.83237717,\n",
       "        -2.59543727],\n",
       "       [-2.61740865, -2.24870316, -1.8917775 , -1.60485635, -1.43802552,\n",
       "        -1.42173782, -1.55901839, -1.8246592 , -2.1717602 , -2.54280703,\n",
       "        -2.88110086, -3.13931963, -3.28418908, -3.29813273, -3.17950046,\n",
       "        -2.94256473],\n",
       "       [-2.98848234, -2.61977516, -2.26284593, -1.97591981, -1.8090834 ,\n",
       "        -1.79279047, -1.93006709, -2.19570587, -2.54280703, -2.91385609,\n",
       "        -3.25215373, -3.5103773 , -3.65525183, -3.66920018, -3.55057161,\n",
       "        -3.31363809],\n",
       "       [-3.32679698, -2.95808636, -2.60115248, -2.31422119, -2.14737997,\n",
       "        -2.13108342, -2.26835826, -2.53399739, -2.88110086, -3.25215373,\n",
       "        -3.59045605, -3.84868442, -3.99356325, -4.00751483, -3.88888803,\n",
       "        -3.65195452],\n",
       "       [-3.58502792, -3.2163127 , -2.85937379, -2.57243788, -2.40559323,\n",
       "        -2.38929509, -2.52657048, -2.79221214, -3.13931963, -3.5103773 ,\n",
       "        -3.84868442, -4.10691694, -4.25179871, -4.26575169, -4.14712456,\n",
       "        -3.91018901],\n",
       "       [-3.72989964, -3.3611793 , -3.00423569, -2.71729628, -2.55045001,\n",
       "        -2.53415246, -2.67143053, -2.93707648, -3.28418908, -3.65525183,\n",
       "        -3.99356325, -4.25179871, -4.39668174, -4.41063417, -4.29200476,\n",
       "        -4.05506547],\n",
       "       [-3.7438356 , -3.37511031, -3.01816293, -2.7312216 , -2.56437568,\n",
       "        -2.54808074, -2.68536324, -2.95101462, -3.29813273, -3.66920018,\n",
       "        -4.00751483, -4.26575169, -4.41063417, -4.42458424, -4.30595094,\n",
       "        -4.06900674],\n",
       "       [-3.6251867 , -3.25645729, -2.89950754, -2.61256611, -2.44572246,\n",
       "        -2.42943182, -2.56671991, -2.83237717, -3.17950046, -3.55057161,\n",
       "        -3.88888803, -4.14712456, -4.29200476, -4.30595094, -4.18731266,\n",
       "        -3.95036301],\n",
       "       [-3.38822743, -3.01949528, -2.66254493, -2.37560526, -2.20876553,\n",
       "        -2.19248035, -2.32977446, -2.59543727, -2.94256473, -3.31363809,\n",
       "        -3.65195452, -3.91018901, -4.05506547, -4.06900674, -3.95036301,\n",
       "        -3.71340809]])"
      ]
     },
     "execution_count": 21,
     "metadata": {},
     "output_type": "execute_result"
    }
   ],
   "source": [
    "S[-2]"
   ]
  },
  {
   "cell_type": "code",
   "execution_count": 25,
   "id": "21ff18ba",
   "metadata": {},
   "outputs": [
    {
     "data": {
      "text/plain": [
       "array([0.        , 0.15915494, 0.31830989, 0.47746483, 0.63661977,\n",
       "       0.79577472, 0.95492966, 1.1140846 , 1.27323954])"
      ]
     },
     "execution_count": 25,
     "metadata": {},
     "output_type": "execute_result"
    }
   ],
   "source": [
    "np.fft.rfftfreq(N, L/N)"
   ]
  },
  {
   "cell_type": "code",
   "execution_count": 27,
   "id": "c709a50e",
   "metadata": {},
   "outputs": [
    {
     "data": {
      "text/plain": [
       "array([ 0.,  1.,  2.,  3.,  4.,  5.,  6.,  7., -8., -7., -6., -5., -4.,\n",
       "       -3., -2., -1.])"
      ]
     },
     "execution_count": 27,
     "metadata": {},
     "output_type": "execute_result"
    }
   ],
   "source": [
    "2 * np.pi * np.fft.fftfreq(N, L/N)"
   ]
  },
  {
   "cell_type": "code",
   "execution_count": null,
   "id": "cc8a68c4",
   "metadata": {},
   "outputs": [],
   "source": []
  }
 ],
 "metadata": {
  "kernelspec": {
   "display_name": "Python 3",
   "language": "python",
   "name": "python3"
  },
  "language_info": {
   "codemirror_mode": {
    "name": "ipython",
    "version": 3
   },
   "file_extension": ".py",
   "mimetype": "text/x-python",
   "name": "python",
   "nbconvert_exporter": "python",
   "pygments_lexer": "ipython3",
   "version": "3.11.6"
  }
 },
 "nbformat": 4,
 "nbformat_minor": 5
}
